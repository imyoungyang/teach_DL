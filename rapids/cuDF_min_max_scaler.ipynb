{
 "cells": [
  {
   "cell_type": "markdown",
   "metadata": {},
   "source": [
    "# simple demo of cudf min-max scaler to [ 0 , 1 ] range \n",
    "> https://scikit-learn.org/stable/modules/generated/sklearn.preprocessing.MinMaxScaler.html\n",
    "\n",
    "> quite inelegant at the moment -- uses string based building of kernel & apply_rows\n",
    "> ! no bounds checking"
   ]
  },
  {
   "cell_type": "code",
   "execution_count": 8,
   "metadata": {},
   "outputs": [],
   "source": [
    "import numpy as np\n",
    "from cudf.dataframe import DataFrame\n",
    "import sklearn"
   ]
  },
  {
   "cell_type": "code",
   "execution_count": 9,
   "metadata": {},
   "outputs": [],
   "source": [
    "nItems = 10\n",
    "df = DataFrame()\n",
    "\n",
    "df['dim1'] = np.arange(nItems)\n",
    "df['dim2'] = np.arange(nItems)*np.random.randint(2, size=nItems)\n",
    "df['dim3'] = np.arange(nItems)*np.random.randint(2, size=nItems)*3+1"
   ]
  },
  {
   "cell_type": "code",
   "execution_count": 10,
   "metadata": {},
   "outputs": [
    {
     "name": "stdout",
     "output_type": "stream",
     "text": [
      "   dim1 dim2 dim3\n",
      " 0    0    0    1\n",
      " 1    1    1    1\n",
      " 2    2    2    7\n",
      " 3    3    3   10\n",
      " 4    4    0    1\n",
      " 5    5    0   16\n",
      " 6    6    6   19\n",
      " 7    7    0   22\n",
      " 8    8    0    1\n",
      " 9    9    0   28\n"
     ]
    }
   ],
   "source": [
    "print(df)"
   ]
  },
  {
   "cell_type": "markdown",
   "metadata": {},
   "source": [
    "# kernel [ applied  per row ]"
   ]
  },
  {
   "cell_type": "code",
   "execution_count": 11,
   "metadata": {},
   "outputs": [],
   "source": [
    "def kernel(dim1, dim2, dim3, \n",
    "           scaled_dim1, scaled_dim2, scaled_dim3,\n",
    "          min1, min2, min3, max1, max2, max3):\n",
    "     for iRow, (d1, d2, d3) in enumerate( zip(dim1, dim2, dim3) ):\n",
    "         scaled_dim1[iRow] = ( d1 - min1 ) / (max1 - min1)\n",
    "         scaled_dim2[iRow] = ( d2 - min2 ) / (max2 - min2)\n",
    "         scaled_dim3[iRow] = ( d3 - min3 ) / (max3 - min3)"
   ]
  },
  {
   "cell_type": "code",
   "execution_count": 12,
   "metadata": {},
   "outputs": [],
   "source": [
    "min1 = min(df['dim1']); min2 = min(df['dim2']); min3 = min(df['dim3'])\n",
    "max1 = max(df['dim1']); max2 = max(df['dim2']); max3 = max(df['dim3'])\n",
    "\n",
    "outdf = df.apply_rows(kernel,\n",
    "                       incols = ['dim1', 'dim2', 'dim3'],\n",
    "                       outcols = dict(scaled_dim1 = np.float64,\n",
    "                                    scaled_dim2 = np.float64,\n",
    "                                    scaled_dim3 = np.float64),\n",
    "                       kwargs = dict( min1 = min1, min2 = min2, min3 = min3, \n",
    "                                      max1 = max1, max2 = max2, max3 = max3) )"
   ]
  },
  {
   "cell_type": "code",
   "execution_count": 13,
   "metadata": {},
   "outputs": [
    {
     "name": "stdout",
     "output_type": "stream",
     "text": [
      "   dim1 dim2 dim3        scaled_dim1         scaled_dim2        scaled_dim3\n",
      " 0    0    0    1                0.0                 0.0                0.0\n",
      " 1    1    1    1 0.1111111111111111 0.16666666666666666                0.0\n",
      " 2    2    2    7 0.2222222222222222  0.3333333333333333 0.2222222222222222\n",
      " 3    3    3   10 0.3333333333333333                 0.5 0.3333333333333333\n",
      " 4    4    0    1 0.4444444444444444                 0.0                0.0\n",
      " 5    5    0   16 0.5555555555555556                 0.0 0.5555555555555556\n",
      " 6    6    6   19 0.6666666666666666                 1.0 0.6666666666666666\n",
      " 7    7    0   22 0.7777777777777778                 0.0 0.7777777777777778\n",
      " 8    8    0    1 0.8888888888888888                 0.0                0.0\n",
      " 9    9    0   28                1.0                 0.0                1.0\n"
     ]
    }
   ],
   "source": [
    "print(outdf)"
   ]
  },
  {
   "cell_type": "code",
   "execution_count": 14,
   "metadata": {},
   "outputs": [],
   "source": [
    "def build_min_max_kernel( targetDF ):    \n",
    "    \n",
    "    columnInputList = []; columnOutputList = []\n",
    "    minInputList = []; maxInputList = []\n",
    "    rowDimsList = []   \n",
    "\n",
    "    for iCol in range( targetDF.columns.size ):\n",
    "        columnInputList += [ targetDF.columns[iCol] ]        \n",
    "        columnOutputList += [ 'scaled_'+targetDF.columns[iCol] ]                \n",
    "        minInputList += [ 'min_' + targetDF.columns[iCol] ]\n",
    "        maxInputList += [ 'max_' + targetDF.columns[iCol] ]        \n",
    "        rowDimsList += [ 'd' + str(iCol) ]\n",
    "    \n",
    "    columnInputStr = ', '.join(columnInputList)\n",
    "    columnOutputStr = ', '.join(columnOutputList)\n",
    "    minInputStr = ', '.join(minInputList)\n",
    "    maxInputStr = ', '.join(maxInputList)\n",
    "    rowDimsStr = ', '.join(rowDimsList)\n",
    "    \n",
    "    ''' build kernel '''\n",
    "    kernelHeaderStr = 'def kernel( ' + \\\n",
    "                        ', '.join( [columnInputStr, columnOutputStr, minInputStr, maxInputStr]) \\\n",
    "                        + ' ):\\n'\n",
    "    \n",
    "    kernelBodyStr = '\\tfor iRow, (' + rowDimsStr + ') in enumerate(zip( '+ columnInputStr + ') ):\\n'\n",
    "    for iCol in range( targetDF.columns.size ):\n",
    "        kernelBodyStr += '\\t\\t' + columnOutputList[iCol] + '[iRow] = ' + \\\n",
    "            '( ' + rowDimsList[iCol] + ' - ' + minInputList[iCol] + ') / ' + \\\n",
    "            '( ' + maxInputList[iCol] + ' - ' + minInputList[iCol] + ') \\n'\n",
    "        \n",
    "   \n",
    "    ''' build apply rows '''\n",
    "    columnInputList = [\"'\" + item + \"'\" for item in columnInputList]\n",
    "    incolsStr = ', '.join(columnInputList) \n",
    "    outcolsList = []\n",
    "    minValList = []\n",
    "    maxValList = []\n",
    "    for iCol in  range ( targetDF.columns.size ):\n",
    "        outcolsList += [ columnOutputList[iCol] + ' = np.float64' ]\n",
    "        minValList += [ minInputList[iCol] + ' = ' + str( min(targetDF[targetDF.columns[iCol]])) ]\n",
    "        maxValList += [ maxInputList[iCol] + ' = ' + str( max(targetDF[targetDF.columns[iCol]])) ]\n",
    "    \n",
    "    outcolsStr = ', '.join(outcolsList)    \n",
    "    kwargsStr = ', '.join( minValList) +', ' + ', '.join( maxValList)\n",
    "    \n",
    "    kernelStr = kernelHeaderStr + kernelBodyStr\n",
    "    applyStr = \"outdf = df.apply_rows( kernel, incols = [\" + incolsStr + \"], outcols = dict(\" + outcolsStr + \"), kwargs = dict(\" + kwargsStr + \"))\"    \n",
    "    return kernelStr, applyStr"
   ]
  },
  {
   "cell_type": "code",
   "execution_count": 15,
   "metadata": {},
   "outputs": [],
   "source": [
    "kernelStr, applyStr = build_min_max_kernel(df)"
   ]
  },
  {
   "cell_type": "code",
   "execution_count": 16,
   "metadata": {
    "scrolled": false
   },
   "outputs": [],
   "source": [
    "exec(kernelStr)"
   ]
  },
  {
   "cell_type": "code",
   "execution_count": 17,
   "metadata": {},
   "outputs": [],
   "source": [
    "exec(applyStr)"
   ]
  },
  {
   "cell_type": "code",
   "execution_count": 18,
   "metadata": {},
   "outputs": [
    {
     "data": {
      "text/plain": [
       "<cudf.DataFrame ncols=6 nrows=10 >"
      ]
     },
     "execution_count": 18,
     "metadata": {},
     "output_type": "execute_result"
    }
   ],
   "source": [
    "outdf"
   ]
  },
  {
   "cell_type": "code",
   "execution_count": 19,
   "metadata": {},
   "outputs": [
    {
     "name": "stdout",
     "output_type": "stream",
     "text": [
      "   dim1 dim2 dim3\n",
      " 0    0    0    1\n",
      " 1    1    1    1\n",
      " 2    2    2    7\n",
      " 3    3    3   10\n",
      " 4    4    0    1\n",
      " 5    5    0   16\n",
      " 6    6    6   19\n",
      " 7    7    0   22\n",
      " 8    8    0    1\n",
      " 9    9    0   28\n"
     ]
    }
   ],
   "source": [
    "print(df)"
   ]
  },
  {
   "cell_type": "code",
   "execution_count": 20,
   "metadata": {},
   "outputs": [
    {
     "name": "stdout",
     "output_type": "stream",
     "text": [
      "   dim1 dim2 dim3        scaled_dim1         scaled_dim2        scaled_dim3\n",
      " 0    0    0    1                0.0                 0.0                0.0\n",
      " 1    1    1    1 0.1111111111111111 0.16666666666666666                0.0\n",
      " 2    2    2    7 0.2222222222222222  0.3333333333333333 0.2222222222222222\n",
      " 3    3    3   10 0.3333333333333333                 0.5 0.3333333333333333\n",
      " 4    4    0    1 0.4444444444444444                 0.0                0.0\n",
      " 5    5    0   16 0.5555555555555556                 0.0 0.5555555555555556\n",
      " 6    6    6   19 0.6666666666666666                 1.0 0.6666666666666666\n",
      " 7    7    0   22 0.7777777777777778                 0.0 0.7777777777777778\n",
      " 8    8    0    1 0.8888888888888888                 0.0                0.0\n",
      " 9    9    0   28                1.0                 0.0                1.0\n"
     ]
    }
   ],
   "source": [
    "print(outdf)"
   ]
  }
 ],
 "metadata": {
  "kernelspec": {
   "display_name": "Python 3",
   "language": "python",
   "name": "python3"
  },
  "language_info": {
   "codemirror_mode": {
    "name": "ipython",
    "version": 3
   },
   "file_extension": ".py",
   "mimetype": "text/x-python",
   "name": "python",
   "nbconvert_exporter": "python",
   "pygments_lexer": "ipython3",
   "version": "3.6.6"
  }
 },
 "nbformat": 4,
 "nbformat_minor": 2
}
