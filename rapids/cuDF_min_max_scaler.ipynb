{
 "cells": [
  {
   "cell_type": "markdown",
   "metadata": {},
   "source": [
    "# simple demo of cudf min-max scaler to [ 0 , 1 ] range \n",
    "> https://scikit-learn.org/stable/modules/generated/sklearn.preprocessing.MinMaxScaler.html\n",
    "\n",
    "> quite inelegant at the moment -- uses string based building of kernel & apply_rows\n",
    "> ! no bounds checking"
   ]
  },
  {
   "cell_type": "code",
   "execution_count": 1,
   "metadata": {},
   "outputs": [],
   "source": [
    "import numpy as np\n",
    "from cudf.dataframe import DataFrame\n",
    "import sklearn"
   ]
  },
  {
   "cell_type": "code",
   "execution_count": 2,
   "metadata": {},
   "outputs": [],
   "source": [
    "nItems = 10\n",
    "df = DataFrame()\n",
    "\n",
    "df['dim1'] = np.arange(nItems)\n",
    "df['dim2'] = np.arange(nItems)*np.random.randint(2, size=nItems)\n",
    "df['dim3'] = np.arange(nItems)*np.random.randint(2, size=nItems)*3+1"
   ]
  },
  {
   "cell_type": "code",
   "execution_count": 3,
   "metadata": {},
   "outputs": [
    {
     "name": "stdout",
     "output_type": "stream",
     "text": [
      "   dim1 dim2 dim3\n",
      " 0    0    0    1\n",
      " 1    1    1    1\n",
      " 2    2    0    7\n",
      " 3    3    0    1\n",
      " 4    4    0    1\n",
      " 5    5    0   16\n",
      " 6    6    0   19\n",
      " 7    7    7    1\n",
      " 8    8    8   25\n",
      " 9    9    0    1\n"
     ]
    }
   ],
   "source": [
    "print(df)"
   ]
  },
  {
   "cell_type": "markdown",
   "metadata": {},
   "source": [
    "# kernel [ applied  per row ]"
   ]
  },
  {
   "cell_type": "code",
   "execution_count": 4,
   "metadata": {},
   "outputs": [],
   "source": [
    "def kernel(dim1, dim2, dim3, \n",
    "           scaled_dim1, scaled_dim2, scaled_dim3,\n",
    "          min1, min2, min3, max1, max2, max3):\n",
    "     for iRow, (d1, d2, d3) in enumerate( zip(dim1, dim2, dim3) ):\n",
    "         scaled_dim1[iRow] = ( d1 - min1 ) / (max1 - min1)\n",
    "         scaled_dim2[iRow] = ( d2 - min2 ) / (max2 - min2)\n",
    "         scaled_dim3[iRow] = ( d3 - min3 ) / (max3 - min3)"
   ]
  },
  {
   "cell_type": "code",
   "execution_count": 5,
   "metadata": {},
   "outputs": [],
   "source": [
    "min1 = min(df['dim1']); min2 = min(df['dim2']); min3 = min(df['dim3'])\n",
    "max1 = max(df['dim1']); max2 = max(df['dim2']); max3 = max(df['dim3'])\n",
    "\n",
    "outdf = df.apply_rows(kernel,\n",
    "                       incols = ['dim1', 'dim2', 'dim3'],\n",
    "                       outcols = dict(scaled_dim1 = np.float64,\n",
    "                                    scaled_dim2 = np.float64,\n",
    "                                    scaled_dim3 = np.float64),\n",
    "                       kwargs = dict( min1 = min1, min2 = min2, min3 = min3, \n",
    "                                      max1 = max1, max2 = max2, max3 = max3) )"
   ]
  },
  {
   "cell_type": "code",
   "execution_count": 6,
   "metadata": {},
   "outputs": [
    {
     "name": "stdout",
     "output_type": "stream",
     "text": [
      "   dim1 dim2 dim3        scaled_dim1 scaled_dim2 scaled_dim3\n",
      " 0    0    0    1                0.0         0.0         0.0\n",
      " 1    1    1    1 0.1111111111111111       0.125         0.0\n",
      " 2    2    0    7 0.2222222222222222         0.0        0.25\n",
      " 3    3    0    1 0.3333333333333333         0.0         0.0\n",
      " 4    4    0    1 0.4444444444444444         0.0         0.0\n",
      " 5    5    0   16 0.5555555555555556         0.0       0.625\n",
      " 6    6    0   19 0.6666666666666666         0.0        0.75\n",
      " 7    7    7    1 0.7777777777777778       0.875         0.0\n",
      " 8    8    8   25 0.8888888888888888         1.0         1.0\n",
      " 9    9    0    1                1.0         0.0         0.0\n"
     ]
    }
   ],
   "source": [
    "print(outdf)"
   ]
  },
  {
   "cell_type": "code",
   "execution_count": 7,
   "metadata": {},
   "outputs": [],
   "source": [
    "def build_min_max_kernel( targetDF ):    \n",
    "    \n",
    "    columnInputList = []; columnOutputList = []\n",
    "    minInputList = []; maxInputList = []\n",
    "    rowDimsList = []   \n",
    "\n",
    "    for iCol in range( targetDF.columns.size ):\n",
    "        columnInputList += [ targetDF.columns[iCol] ]        \n",
    "        columnOutputList += [ 'scaled_'+targetDF.columns[iCol] ]                \n",
    "        minInputList += [ 'min_' + targetDF.columns[iCol] ]\n",
    "        maxInputList += [ 'max_' + targetDF.columns[iCol] ]        \n",
    "        rowDimsList += [ 'd' + str(iCol) ]\n",
    "    \n",
    "    columnInputStr = ', '.join(columnInputList)\n",
    "    columnOutputStr = ', '.join(columnOutputList)\n",
    "    minInputStr = ', '.join(minInputList)\n",
    "    maxInputStr = ', '.join(maxInputList)\n",
    "    rowDimsStr = ', '.join(rowDimsList)\n",
    "    \n",
    "    ''' build kernel string '''\n",
    "    kernelHeaderStr = 'def kernel( ' + \\\n",
    "                        ', '.join( [columnInputStr, columnOutputStr, minInputStr, maxInputStr]) \\\n",
    "                        + ' ):\\n'\n",
    "    \n",
    "    kernelBodyStr = '\\tfor iRow, (' + rowDimsStr + ') in enumerate(zip( '+ columnInputStr + ') ):\\n'\n",
    "    for iCol in range( targetDF.columns.size ):\n",
    "        kernelBodyStr += '\\t\\t' + columnOutputList[iCol] + '[iRow] = ' + \\\n",
    "            '( ' + rowDimsList[iCol] + ' - ' + minInputList[iCol] + ') / ' + \\\n",
    "            '( ' + maxInputList[iCol] + ' - ' + minInputList[iCol] + ') \\n'\n",
    "        \n",
    "    kernelStr = kernelHeaderStr + kernelBodyStr\n",
    "    \n",
    "    ''' build apply rows string'''\n",
    "    columnInputList = [\"'\" + item + \"'\" for item in columnInputList]\n",
    "    incolsStr = ', '.join(columnInputList) \n",
    "    outcolsList = []\n",
    "    minValList = []\n",
    "    maxValList = []\n",
    "    for iCol in  range ( targetDF.columns.size ):\n",
    "        outcolsList += [ columnOutputList[iCol] + ' = np.float64' ]\n",
    "        minValList += [ minInputList[iCol] + ' = ' + str( min(targetDF[targetDF.columns[iCol]])) ]\n",
    "        maxValList += [ maxInputList[iCol] + ' = ' + str( max(targetDF[targetDF.columns[iCol]])) ]\n",
    "    \n",
    "    outcolsStr = ', '.join(outcolsList)    \n",
    "    kwargsStr = ', '.join( minValList) +', ' + ', '.join( maxValList)\n",
    "\n",
    "    applyRowsStr = \"apply_rows( kernel, incols = [\" + incolsStr + \"], outcols = dict(\" + outcolsStr + \"), kwargs = dict(\" + kwargsStr + \"))\"\n",
    "    \n",
    "    ''' execute kernel & apply rows command and return output dataframe '''\n",
    "    localDict = {}\n",
    "    exec(kernelStr, globals(), localDict)    \n",
    "    localDict = {'targetDF' : targetDF, 'kernel' : localDict['kernel']}\n",
    "    exec(\"outDF = targetDF.\" + applyRowsStr , globals(), localDict)\n",
    "    return localDict['outDF']"
   ]
  },
  {
   "cell_type": "code",
   "execution_count": 8,
   "metadata": {},
   "outputs": [
    {
     "name": "stdout",
     "output_type": "stream",
     "text": [
      "   dim1 dim2 dim3\n",
      " 0    0    0    1\n",
      " 1    1    1    1\n",
      " 2    2    0    7\n",
      " 3    3    0    1\n",
      " 4    4    0    1\n",
      " 5    5    0   16\n",
      " 6    6    0   19\n",
      " 7    7    7    1\n",
      " 8    8    8   25\n",
      " 9    9    0    1\n"
     ]
    }
   ],
   "source": [
    "print ( df )"
   ]
  },
  {
   "cell_type": "code",
   "execution_count": 9,
   "metadata": {},
   "outputs": [
    {
     "name": "stdout",
     "output_type": "stream",
     "text": [
      "   dim1 dim2 dim3        scaled_dim1 scaled_dim2 scaled_dim3\n",
      " 0    0    0    1                0.0         0.0         0.0\n",
      " 1    1    1    1 0.1111111111111111       0.125         0.0\n",
      " 2    2    0    7 0.2222222222222222         0.0        0.25\n",
      " 3    3    0    1 0.3333333333333333         0.0         0.0\n",
      " 4    4    0    1 0.4444444444444444         0.0         0.0\n",
      " 5    5    0   16 0.5555555555555556         0.0       0.625\n",
      " 6    6    0   19 0.6666666666666666         0.0        0.75\n",
      " 7    7    7    1 0.7777777777777778       0.875         0.0\n",
      " 8    8    8   25 0.8888888888888888         1.0         1.0\n",
      " 9    9    0    1                1.0         0.0         0.0\n"
     ]
    }
   ],
   "source": [
    "scaledDF = build_min_max_kernel( targetDF = df )\n",
    "print( scaledDF )"
   ]
  }
 ],
 "metadata": {
  "kernelspec": {
   "display_name": "Python 3",
   "language": "python",
   "name": "python3"
  },
  "language_info": {
   "codemirror_mode": {
    "name": "ipython",
    "version": 3
   },
   "file_extension": ".py",
   "mimetype": "text/x-python",
   "name": "python",
   "nbconvert_exporter": "python",
   "pygments_lexer": "ipython3",
   "version": "3.6.6"
  }
 },
 "nbformat": 4,
 "nbformat_minor": 2
}
